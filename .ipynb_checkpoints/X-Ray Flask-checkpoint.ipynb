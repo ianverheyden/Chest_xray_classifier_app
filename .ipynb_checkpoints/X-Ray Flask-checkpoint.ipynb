{
 "cells": [
  {
   "cell_type": "code",
   "execution_count": 3,
   "id": "4d26dbef",
   "metadata": {},
   "outputs": [
    {
     "name": "stderr",
     "output_type": "stream",
     "text": [
      "2023-12-03 00:41:28.433773: I tensorflow/core/platform/cpu_feature_guard.cc:182] This TensorFlow binary is optimized to use available CPU instructions in performance-critical operations.\n",
      "To enable the following instructions: AVX2 FMA, in other operations, rebuild TensorFlow with the appropriate compiler flags.\n"
     ]
    }
   ],
   "source": [
    "from flask import Flask, render_template, request\n",
    "import tensorflow as tf\n",
    "import numpy as np\n",
    "from PIL import Image\n",
    "import io\n",
    "import os\n",
    "import random"
   ]
  },
  {
   "cell_type": "code",
   "execution_count": null,
   "id": "2f99f603",
   "metadata": {},
   "outputs": [],
   "source": [
    "app = Flask(__name__)\n",
    "\n",
    "# Load the Chest X-Ray Predictor model\n",
    "model = tf.keras.models.load_model('./models/binary_mobilnet_transferlearn_checkpoint.h5')\n",
    "# Path to your test images\n",
    "test_images_path = './static/test_images/'\n",
    "\n",
    "@app.route('/')\n",
    "def index():\n",
    "    # List of image names in the test dataset\n",
    "    test_images = os.listdir(test_images_path)\n",
    "    # Select a random subset of images to display\n",
    "    displayed_images = random.sample(test_images, 5)\n",
    "    return render_template('index.html', displayed_images=displayed_images)\n",
    "\n",
    "@app.route('/predict', methods=['POST'])\n",
    "def predict():\n",
    "    if 'file' in request.files:\n",
    "        file = request.files['file']\n",
    "    else:\n",
    "        # Handle case where user selects an image\n",
    "        image_name = request.form['image_name']\n",
    "        file_path = os.path.join(test_images_path, image_name)\n",
    "        file = open(file_path, 'rb')\n",
    "\n",
    "    if file:\n",
    "        # Read and preprocess the image\n",
    "        image = Image.open(io.BytesIO(file.read()))\n",
    "        # Convert to RGB if the image is grayscale\n",
    "        if image.mode != 'RGB':\n",
    "            image = image.convert('RGB')\n",
    "        image = image.resize((224, 224))  # Resize as per model requirement\n",
    "        image = np.array(image)\n",
    "        image = np.expand_dims(image, axis=0)  # Model expects a batch\n",
    "\n",
    "        # Make a prediction\n",
    "        pred = model.predict(image)\n",
    "\n",
    "        # Process prediction and generate a meaningful response\n",
    "        prediction = 'Positive' if pred[0][0] > 0.5 else 'Negative'\n",
    "\n",
    "        return prediction\n",
    "\n",
    "if __name__ == '__main__':\n",
    "    app.run(host='127.0.0.1', port=5000, debug=True, threaded=True)"
   ]
  }
 ],
 "metadata": {
  "kernelspec": {
   "display_name": "Python 3 (ipykernel)",
   "language": "python",
   "name": "python3"
  },
  "language_info": {
   "codemirror_mode": {
    "name": "ipython",
    "version": 3
   },
   "file_extension": ".py",
   "mimetype": "text/x-python",
   "name": "python",
   "nbconvert_exporter": "python",
   "pygments_lexer": "ipython3",
   "version": "3.10.11"
  }
 },
 "nbformat": 4,
 "nbformat_minor": 5
}
